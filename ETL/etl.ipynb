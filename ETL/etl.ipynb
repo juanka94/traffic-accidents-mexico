{
 "cells": [
  {
   "cell_type": "markdown",
   "id": "57250e9d",
   "metadata": {},
   "source": [
    "# Extract, Transform & Load"
   ]
  },
  {
   "cell_type": "markdown",
   "id": "c2864722",
   "metadata": {},
   "source": [
    "Import libraries."
   ]
  },
  {
   "cell_type": "code",
   "execution_count": 1,
   "id": "a1650896",
   "metadata": {},
   "outputs": [],
   "source": [
    "import pandas as pd"
   ]
  },
  {
   "cell_type": "markdown",
   "id": "814f0556",
   "metadata": {},
   "source": [
    "Load CSV."
   ]
  },
  {
   "cell_type": "code",
   "execution_count": 7,
   "id": "9ec78e73",
   "metadata": {},
   "outputs": [],
   "source": [
    "df_traffic_accidents = pd.read_csv(\"../data/raw/atus_anual_csv/conjunto_de_datos/atus_anual_2023.csv\")"
   ]
  },
  {
   "cell_type": "code",
   "execution_count": 8,
   "id": "fa50fd8d",
   "metadata": {},
   "outputs": [
    {
     "data": {
      "text/plain": [
       "<bound method DataFrame.info of         COBERTURA  ID_ENTIDAD  ID_MUNICIPIO  ANIO  MES  ID_HORA  ID_MINUTO  \\\n",
       "0       Municipal           1             1  2023    1        0          0   \n",
       "1       Municipal           1             1  2023    1        0          0   \n",
       "2       Municipal           1             1  2023    1        2         20   \n",
       "3       Municipal           1             1  2023    1        3         20   \n",
       "4       Municipal           1             1  2023    1        6          0   \n",
       "...           ...         ...           ...   ...  ...      ...        ...   \n",
       "396623  Municipal          32            56  2023   12       14         45   \n",
       "396624  Municipal          32            56  2023   12       21         40   \n",
       "396625  Municipal          32            56  2023   12       14         30   \n",
       "396626  Municipal          32            56  2023   12        0          0   \n",
       "396627  Municipal          32            56  2023   12       18          0   \n",
       "\n",
       "        ID_DIA  DIASEMANA                        URBANA  ... PEATMUERTO  \\\n",
       "0            1    Domingo    Sin accidente en esta zona  ...          0   \n",
       "1            1    Domingo     Accidente en intersección  ...          0   \n",
       "2            1    Domingo     Accidente en intersección  ...          0   \n",
       "3            1    Domingo     Accidente en intersección  ...          0   \n",
       "4            1    Domingo     Accidente en intersección  ...          0   \n",
       "...        ...        ...                           ...  ...        ...   \n",
       "396623      27  Miercoles  Accidente en no intersección  ...          0   \n",
       "396624      27  Miercoles  Accidente en no intersección  ...          0   \n",
       "396625      29    Viernes  Accidente en no intersección  ...          0   \n",
       "396626      30     Sabado  Accidente en no intersección  ...          0   \n",
       "396627      31    Domingo  Accidente en no intersección  ...          0   \n",
       "\n",
       "       PEATHERIDO  CICLMUERTO  CICLHERIDO  OTROMUERTO  OTROHERIDO  NEMUERTO  \\\n",
       "0               0           0           0           0           0         0   \n",
       "1               0           0           0           0           0         0   \n",
       "2               0           0           0           0           0         0   \n",
       "3               0           0           0           0           0         0   \n",
       "4               0           0           0           0           0         0   \n",
       "...           ...         ...         ...         ...         ...       ...   \n",
       "396623          0           0           0           0           0         0   \n",
       "396624          0           0           0           0           0         0   \n",
       "396625          0           0           0           0           0         0   \n",
       "396626          0           0           0           0           0         0   \n",
       "396627          0           0           0           0           0         0   \n",
       "\n",
       "        NEHERIDO     CLASACC             ESTATUS  \n",
       "0              0    No fatal  Cifras Definitivas  \n",
       "1              0    No fatal  Cifras Definitivas  \n",
       "2              0  Sólo daños  Cifras Definitivas  \n",
       "3              0       Fatal  Cifras Definitivas  \n",
       "4              0  Sólo daños  Cifras Definitivas  \n",
       "...          ...         ...                 ...  \n",
       "396623         0    No fatal  Cifras Definitivas  \n",
       "396624         0  Sólo daños  Cifras Definitivas  \n",
       "396625         0    No fatal  Cifras Definitivas  \n",
       "396626         0  Sólo daños  Cifras Definitivas  \n",
       "396627         0  Sólo daños  Cifras Definitivas  \n",
       "\n",
       "[396628 rows x 45 columns]>"
      ]
     },
     "execution_count": 8,
     "metadata": {},
     "output_type": "execute_result"
    }
   ],
   "source": [
    "df_traffic_accidents.info"
   ]
  },
  {
   "cell_type": "code",
   "execution_count": 9,
   "id": "7b688d00",
   "metadata": {},
   "outputs": [
    {
     "data": {
      "text/plain": [
       "Index(['COBERTURA', 'ID_ENTIDAD', 'ID_MUNICIPIO', 'ANIO', 'MES', 'ID_HORA',\n",
       "       'ID_MINUTO', 'ID_DIA', 'DIASEMANA', 'URBANA', 'SUBURBANA', 'TIPACCID',\n",
       "       'AUTOMOVIL', 'CAMPASAJ', 'MICROBUS', 'PASCAMION', 'OMNIBUS', 'TRANVIA',\n",
       "       'CAMIONETA', 'CAMION', 'TRACTOR', 'FERROCARRI', 'MOTOCICLET',\n",
       "       'BICICLETA', 'OTROVEHIC', 'CAUSAACCI', 'CAPAROD', 'SEXO', 'ALIENTO',\n",
       "       'CINTURON', 'ID_EDAD', 'CONDMUERTO', 'CONDHERIDO', 'PASAMUERTO',\n",
       "       'PASAHERIDO', 'PEATMUERTO', 'PEATHERIDO', 'CICLMUERTO', 'CICLHERIDO',\n",
       "       'OTROMUERTO', 'OTROHERIDO', 'NEMUERTO', 'NEHERIDO', 'CLASACC',\n",
       "       'ESTATUS'],\n",
       "      dtype='object')"
      ]
     },
     "execution_count": 9,
     "metadata": {},
     "output_type": "execute_result"
    }
   ],
   "source": [
    "df_traffic_accidents.columns"
   ]
  },
  {
   "cell_type": "code",
   "execution_count": 10,
   "id": "03c7945b",
   "metadata": {},
   "outputs": [
    {
     "data": {
      "application/vnd.microsoft.datawrangler.viewer.v0+json": {
       "columns": [
        {
         "name": "index",
         "rawType": "object",
         "type": "string"
        },
        {
         "name": "0",
         "rawType": "object",
         "type": "unknown"
        }
       ],
       "ref": "5efbc6cf-90b0-4a0a-929b-dbf258e36bd8",
       "rows": [
        [
         "COBERTURA",
         "object"
        ],
        [
         "ID_ENTIDAD",
         "int64"
        ],
        [
         "ID_MUNICIPIO",
         "int64"
        ],
        [
         "ANIO",
         "int64"
        ],
        [
         "MES",
         "int64"
        ],
        [
         "ID_HORA",
         "int64"
        ],
        [
         "ID_MINUTO",
         "int64"
        ],
        [
         "ID_DIA",
         "int64"
        ],
        [
         "DIASEMANA",
         "object"
        ],
        [
         "URBANA",
         "object"
        ],
        [
         "SUBURBANA",
         "object"
        ],
        [
         "TIPACCID",
         "object"
        ],
        [
         "AUTOMOVIL",
         "int64"
        ],
        [
         "CAMPASAJ",
         "int64"
        ],
        [
         "MICROBUS",
         "int64"
        ],
        [
         "PASCAMION",
         "int64"
        ],
        [
         "OMNIBUS",
         "int64"
        ],
        [
         "TRANVIA",
         "int64"
        ],
        [
         "CAMIONETA",
         "int64"
        ],
        [
         "CAMION",
         "int64"
        ],
        [
         "TRACTOR",
         "int64"
        ],
        [
         "FERROCARRI",
         "int64"
        ],
        [
         "MOTOCICLET",
         "int64"
        ],
        [
         "BICICLETA",
         "int64"
        ],
        [
         "OTROVEHIC",
         "int64"
        ],
        [
         "CAUSAACCI",
         "object"
        ],
        [
         "CAPAROD",
         "object"
        ],
        [
         "SEXO",
         "object"
        ],
        [
         "ALIENTO",
         "object"
        ],
        [
         "CINTURON",
         "object"
        ],
        [
         "ID_EDAD",
         "int64"
        ],
        [
         "CONDMUERTO",
         "int64"
        ],
        [
         "CONDHERIDO",
         "int64"
        ],
        [
         "PASAMUERTO",
         "int64"
        ],
        [
         "PASAHERIDO",
         "int64"
        ],
        [
         "PEATMUERTO",
         "int64"
        ],
        [
         "PEATHERIDO",
         "int64"
        ],
        [
         "CICLMUERTO",
         "int64"
        ],
        [
         "CICLHERIDO",
         "int64"
        ],
        [
         "OTROMUERTO",
         "int64"
        ],
        [
         "OTROHERIDO",
         "int64"
        ],
        [
         "NEMUERTO",
         "int64"
        ],
        [
         "NEHERIDO",
         "int64"
        ],
        [
         "CLASACC",
         "object"
        ],
        [
         "ESTATUS",
         "object"
        ]
       ],
       "shape": {
        "columns": 1,
        "rows": 45
       }
      },
      "text/plain": [
       "COBERTURA       object\n",
       "ID_ENTIDAD       int64\n",
       "ID_MUNICIPIO     int64\n",
       "ANIO             int64\n",
       "MES              int64\n",
       "ID_HORA          int64\n",
       "ID_MINUTO        int64\n",
       "ID_DIA           int64\n",
       "DIASEMANA       object\n",
       "URBANA          object\n",
       "SUBURBANA       object\n",
       "TIPACCID        object\n",
       "AUTOMOVIL        int64\n",
       "CAMPASAJ         int64\n",
       "MICROBUS         int64\n",
       "PASCAMION        int64\n",
       "OMNIBUS          int64\n",
       "TRANVIA          int64\n",
       "CAMIONETA        int64\n",
       "CAMION           int64\n",
       "TRACTOR          int64\n",
       "FERROCARRI       int64\n",
       "MOTOCICLET       int64\n",
       "BICICLETA        int64\n",
       "OTROVEHIC        int64\n",
       "CAUSAACCI       object\n",
       "CAPAROD         object\n",
       "SEXO            object\n",
       "ALIENTO         object\n",
       "CINTURON        object\n",
       "ID_EDAD          int64\n",
       "CONDMUERTO       int64\n",
       "CONDHERIDO       int64\n",
       "PASAMUERTO       int64\n",
       "PASAHERIDO       int64\n",
       "PEATMUERTO       int64\n",
       "PEATHERIDO       int64\n",
       "CICLMUERTO       int64\n",
       "CICLHERIDO       int64\n",
       "OTROMUERTO       int64\n",
       "OTROHERIDO       int64\n",
       "NEMUERTO         int64\n",
       "NEHERIDO         int64\n",
       "CLASACC         object\n",
       "ESTATUS         object\n",
       "dtype: object"
      ]
     },
     "execution_count": 10,
     "metadata": {},
     "output_type": "execute_result"
    }
   ],
   "source": [
    "df_traffic_accidents.dtypes"
   ]
  },
  {
   "cell_type": "markdown",
   "id": "795b7f29",
   "metadata": {},
   "source": [
    "Create a date column."
   ]
  },
  {
   "cell_type": "code",
   "execution_count": 11,
   "id": "7144ffc3",
   "metadata": {},
   "outputs": [],
   "source": [
    "df_traffic_accidents[\"fecha_hora\"] = pd.to_datetime(dict(\n",
    "        year=df_traffic_accidents[\"ANIO\"],\n",
    "        month=df_traffic_accidents[\"MES\"],\n",
    "        day=df_traffic_accidents[\"ID_DIA\"],\n",
    "        hour=df_traffic_accidents[\"ID_HORA\"],\n",
    "        minute=df_traffic_accidents[\"ID_MINUTO\"]\n",
    "    ), errors='coerce')"
   ]
  },
  {
   "cell_type": "markdown",
   "id": "16f9eb93",
   "metadata": {},
   "source": [
    "Drop NaT values."
   ]
  },
  {
   "cell_type": "code",
   "execution_count": 12,
   "id": "1992862d",
   "metadata": {},
   "outputs": [
    {
     "data": {
      "text/plain": [
       "np.int64(0)"
      ]
     },
     "execution_count": 12,
     "metadata": {},
     "output_type": "execute_result"
    }
   ],
   "source": [
    "df_traffic_accidents = df_traffic_accidents.dropna()\n",
    "df_traffic_accidents[\"fecha_hora\"].isna().sum()"
   ]
  },
  {
   "cell_type": "markdown",
   "id": "8d7826b6",
   "metadata": {},
   "source": [
    "Drop year, month, day, hour and minute columns."
   ]
  },
  {
   "cell_type": "code",
   "execution_count": 13,
   "id": "f0c8b1a9",
   "metadata": {},
   "outputs": [],
   "source": [
    "df_traffic_accidents = df_traffic_accidents.drop([\"ANIO\",\"MES\",\"ID_DIA\",\"ID_HORA\",\"ID_MINUTO\"],axis=1)"
   ]
  },
  {
   "cell_type": "code",
   "execution_count": 14,
   "id": "9728278e",
   "metadata": {},
   "outputs": [
    {
     "data": {
      "text/plain": [
       "Index(['COBERTURA', 'ID_ENTIDAD', 'ID_MUNICIPIO', 'DIASEMANA', 'URBANA',\n",
       "       'SUBURBANA', 'TIPACCID', 'AUTOMOVIL', 'CAMPASAJ', 'MICROBUS',\n",
       "       'PASCAMION', 'OMNIBUS', 'TRANVIA', 'CAMIONETA', 'CAMION', 'TRACTOR',\n",
       "       'FERROCARRI', 'MOTOCICLET', 'BICICLETA', 'OTROVEHIC', 'CAUSAACCI',\n",
       "       'CAPAROD', 'SEXO', 'ALIENTO', 'CINTURON', 'ID_EDAD', 'CONDMUERTO',\n",
       "       'CONDHERIDO', 'PASAMUERTO', 'PASAHERIDO', 'PEATMUERTO', 'PEATHERIDO',\n",
       "       'CICLMUERTO', 'CICLHERIDO', 'OTROMUERTO', 'OTROHERIDO', 'NEMUERTO',\n",
       "       'NEHERIDO', 'CLASACC', 'ESTATUS', 'fecha_hora'],\n",
       "      dtype='object')"
      ]
     },
     "execution_count": 14,
     "metadata": {},
     "output_type": "execute_result"
    }
   ],
   "source": [
    "df_traffic_accidents.columns"
   ]
  },
  {
   "cell_type": "markdown",
   "id": "9e65b4cf",
   "metadata": {},
   "source": [
    "Create a zone column."
   ]
  },
  {
   "cell_type": "code",
   "execution_count": 15,
   "id": "43548705",
   "metadata": {},
   "outputs": [],
   "source": [
    "zones = pd.DataFrame()\n",
    "zones[\"URBANA\"] = df_traffic_accidents[\"URBANA\"].replace(\"Sin accidente en esta zona\", pd.NA)\n",
    "zones[\"SUBURBANA\"] = df_traffic_accidents[\"SUBURBANA\"].replace(\"Sin accidente en esta zona\", pd.NA)\n",
    "\n",
    "df_traffic_accidents[\"zona\"] = zones[\"URBANA\"].combine_first(zones[\"SUBURBANA\"])"
   ]
  },
  {
   "cell_type": "markdown",
   "id": "39dec4c8",
   "metadata": {},
   "source": [
    "Fill rows with undefined zone."
   ]
  },
  {
   "cell_type": "code",
   "execution_count": 16,
   "id": "893f1249",
   "metadata": {},
   "outputs": [],
   "source": [
    "df_traffic_accidents[\"zona\"] = df_traffic_accidents[\"zona\"].fillna('No especificado')"
   ]
  },
  {
   "cell_type": "markdown",
   "id": "5ada5c51",
   "metadata": {},
   "source": [
    "Drop URBANA and SUBURBANA columns."
   ]
  },
  {
   "cell_type": "code",
   "execution_count": 17,
   "id": "071e4b7e",
   "metadata": {},
   "outputs": [],
   "source": [
    "df_traffic_accidents = df_traffic_accidents.drop([\"URBANA\",\"SUBURBANA\"],axis=1)"
   ]
  },
  {
   "cell_type": "code",
   "execution_count": 18,
   "id": "8ddd6045",
   "metadata": {},
   "outputs": [
    {
     "data": {
      "text/plain": [
       "Index(['COBERTURA', 'ID_ENTIDAD', 'ID_MUNICIPIO', 'DIASEMANA', 'TIPACCID',\n",
       "       'AUTOMOVIL', 'CAMPASAJ', 'MICROBUS', 'PASCAMION', 'OMNIBUS', 'TRANVIA',\n",
       "       'CAMIONETA', 'CAMION', 'TRACTOR', 'FERROCARRI', 'MOTOCICLET',\n",
       "       'BICICLETA', 'OTROVEHIC', 'CAUSAACCI', 'CAPAROD', 'SEXO', 'ALIENTO',\n",
       "       'CINTURON', 'ID_EDAD', 'CONDMUERTO', 'CONDHERIDO', 'PASAMUERTO',\n",
       "       'PASAHERIDO', 'PEATMUERTO', 'PEATHERIDO', 'CICLMUERTO', 'CICLHERIDO',\n",
       "       'OTROMUERTO', 'OTROHERIDO', 'NEMUERTO', 'NEHERIDO', 'CLASACC',\n",
       "       'ESTATUS', 'fecha_hora', 'zona'],\n",
       "      dtype='object')"
      ]
     },
     "execution_count": 18,
     "metadata": {},
     "output_type": "execute_result"
    }
   ],
   "source": [
    "df_traffic_accidents.columns"
   ]
  },
  {
   "cell_type": "markdown",
   "id": "3bc62c0b",
   "metadata": {},
   "source": [
    "Change columns name."
   ]
  },
  {
   "cell_type": "code",
   "execution_count": 20,
   "id": "9ab47691",
   "metadata": {},
   "outputs": [],
   "source": [
    "rename_columns = {\n",
    "    \"ID_ENTIDAD\": \"entidad_id\",\n",
    "    \"ID_MUNICIPIO\": \"municipio_id\",\n",
    "    \"TIPACCID\": \"tipo_accidente\",\n",
    "    \"AUTOMOVIL\": \"automovil\",\n",
    "    \"CAMPASAJ\": \"camioneta_pasajeros\",\n",
    "    \"MICROBUS\": \"microbus\",\n",
    "    \"PASCAMION\": \"camion_urbano\",\n",
    "    \"OMNIBUS\": \"autobus\",\n",
    "    \"TRANVIA\": \"tranvia\",\n",
    "    \"CAMIONETA\": \"camioneta_carga\",\n",
    "    \"CAMION\": \"camion_carga\",\n",
    "    \"TRACTOR\": \"tractor\",\n",
    "    \"FERROCARRI\": \"ferrocarril\",\n",
    "    \"MOTOCICLET\": \"motocicleta\",\n",
    "    \"BICICLETA\": \"bicicleta\",\n",
    "    \"OTROVEHIC\": \"otro_vehiculo\",\n",
    "    \"CAUSAACCI\": \"causa_accidente\",\n",
    "    \"CAPAROD\": \"superficie_rodamiento\",\n",
    "    \"SEXO\": \"sexo\",\n",
    "    \"ALIENTO\": \"aliento_alcoholico\",\n",
    "    \"CINTURON\": \"cinturon\",\n",
    "    \"ID_EDAD\": \"edad\",\n",
    "    \"CONDMUERTO\":\"conductor_muerto\",\n",
    "    \"CONDHERIDO\": \"conductor_herido\",\n",
    "    \"PASAMUERTO\": \"pasajero_muerto\",\n",
    "    \"PASAHERIDO\": \"pasajero_herido\",\n",
    "    \"PEATMUERTO\": \"peaton_muerto\",\n",
    "    \"PEATHERIDO\": \"peaton_herido\",\n",
    "    \"CICLMUERTO\": \"ciclista_muerto\",\n",
    "    \"CICLHERIDO\": \"ciclista_herido\",\n",
    "    \"OTROMUERTO\": \"otro_muerto\",\n",
    "    \"OTROHERIDO\": \"otro_herido\",\n",
    "    \"NEMUERTO\": \"no_espec_muerto\",\n",
    "    \"NEHERIDO\": \"no_espec_herido\"\n",
    "}\n",
    "\n",
    "for original, new in rename_columns.items():\n",
    "    if original in df_traffic_accidents.columns:\n",
    "        df_traffic_accidents.rename(columns={original: new}, inplace=True)"
   ]
  },
  {
   "cell_type": "code",
   "execution_count": 21,
   "id": "ebf21136",
   "metadata": {},
   "outputs": [
    {
     "data": {
      "text/plain": [
       "Index(['COBERTURA', 'entidad_id', 'municipio_id', 'DIASEMANA',\n",
       "       'tipo_accidente', 'automovil', 'camioneta_pasajeros', 'microbus',\n",
       "       'camion_urbano', 'autobus', 'tranvia', 'camioneta_carga',\n",
       "       'camion_carga', 'tractor', 'ferrocarril', 'motocicleta', 'bicicleta',\n",
       "       'otro_vehiculo', 'causa_accidente', 'superficie_rodamiento', 'sexo',\n",
       "       'aliento_alcoholico', 'cinturon', 'edad', 'conductor_muerto',\n",
       "       'conductor_herido', 'pasajero_muerto', 'pasajero_herido',\n",
       "       'peaton_muerto', 'peaton_herido', 'ciclista_muerto', 'ciclista_herido',\n",
       "       'otro_muerto', 'otro_herido', 'no_espec_muerto', 'no_espec_herido',\n",
       "       'CLASACC', 'ESTATUS', 'fecha_hora', 'zona'],\n",
       "      dtype='object')"
      ]
     },
     "execution_count": 21,
     "metadata": {},
     "output_type": "execute_result"
    }
   ],
   "source": [
    "df_traffic_accidents.columns"
   ]
  },
  {
   "cell_type": "markdown",
   "id": "e034619c",
   "metadata": {},
   "source": [
    "Drop unnecessary columns."
   ]
  },
  {
   "cell_type": "code",
   "execution_count": 22,
   "id": "2fc15cff",
   "metadata": {},
   "outputs": [
    {
     "data": {
      "text/plain": [
       "Index(['entidad_id', 'municipio_id', 'tipo_accidente', 'automovil',\n",
       "       'camioneta_pasajeros', 'microbus', 'camion_urbano', 'autobus',\n",
       "       'tranvia', 'camioneta_carga', 'camion_carga', 'tractor', 'ferrocarril',\n",
       "       'motocicleta', 'bicicleta', 'otro_vehiculo', 'causa_accidente',\n",
       "       'superficie_rodamiento', 'sexo', 'aliento_alcoholico', 'cinturon',\n",
       "       'edad', 'conductor_muerto', 'conductor_herido', 'pasajero_muerto',\n",
       "       'pasajero_herido', 'peaton_muerto', 'peaton_herido', 'ciclista_muerto',\n",
       "       'ciclista_herido', 'otro_muerto', 'otro_herido', 'no_espec_muerto',\n",
       "       'no_espec_herido', 'fecha_hora', 'zona'],\n",
       "      dtype='object')"
      ]
     },
     "execution_count": 22,
     "metadata": {},
     "output_type": "execute_result"
    }
   ],
   "source": [
    "df_traffic_accidents = df_traffic_accidents.drop(['COBERTURA', 'DIASEMANA', 'CLASACC', 'ESTATUS'], axis=1)\n",
    "df_traffic_accidents.columns"
   ]
  }
 ],
 "metadata": {
  "kernelspec": {
   "display_name": "venv",
   "language": "python",
   "name": "python3"
  },
  "language_info": {
   "codemirror_mode": {
    "name": "ipython",
    "version": 3
   },
   "file_extension": ".py",
   "mimetype": "text/x-python",
   "name": "python",
   "nbconvert_exporter": "python",
   "pygments_lexer": "ipython3",
   "version": "3.9.12"
  }
 },
 "nbformat": 4,
 "nbformat_minor": 5
}
