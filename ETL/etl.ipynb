{
 "cells": [
  {
   "cell_type": "markdown",
   "id": "57250e9d",
   "metadata": {},
   "source": [
    "# Extract, Transform & Load"
   ]
  },
  {
   "cell_type": "markdown",
   "id": "c2864722",
   "metadata": {},
   "source": [
    "Import libraries."
   ]
  },
  {
   "cell_type": "code",
   "execution_count": 1,
   "id": "a1650896",
   "metadata": {},
   "outputs": [],
   "source": [
    "import pandas as pd"
   ]
  },
  {
   "cell_type": "markdown",
   "id": "814f0556",
   "metadata": {},
   "source": [
    "Load CSV."
   ]
  },
  {
   "cell_type": "code",
   "execution_count": 7,
   "id": "9ec78e73",
   "metadata": {},
   "outputs": [],
   "source": [
    "df_traffic_accidents = pd.read_csv(\"../data/raw/atus_anual_csv/conjunto_de_datos/atus_anual_2023.csv\")"
   ]
  },
  {
   "cell_type": "code",
   "execution_count": 8,
   "id": "fa50fd8d",
   "metadata": {},
   "outputs": [
    {
     "data": {
      "text/plain": [
       "<bound method DataFrame.info of         COBERTURA  ID_ENTIDAD  ID_MUNICIPIO  ANIO  MES  ID_HORA  ID_MINUTO  \\\n",
       "0       Municipal           1             1  2023    1        0          0   \n",
       "1       Municipal           1             1  2023    1        0          0   \n",
       "2       Municipal           1             1  2023    1        2         20   \n",
       "3       Municipal           1             1  2023    1        3         20   \n",
       "4       Municipal           1             1  2023    1        6          0   \n",
       "...           ...         ...           ...   ...  ...      ...        ...   \n",
       "396623  Municipal          32            56  2023   12       14         45   \n",
       "396624  Municipal          32            56  2023   12       21         40   \n",
       "396625  Municipal          32            56  2023   12       14         30   \n",
       "396626  Municipal          32            56  2023   12        0          0   \n",
       "396627  Municipal          32            56  2023   12       18          0   \n",
       "\n",
       "        ID_DIA  DIASEMANA                        URBANA  ... PEATMUERTO  \\\n",
       "0            1    Domingo    Sin accidente en esta zona  ...          0   \n",
       "1            1    Domingo     Accidente en intersección  ...          0   \n",
       "2            1    Domingo     Accidente en intersección  ...          0   \n",
       "3            1    Domingo     Accidente en intersección  ...          0   \n",
       "4            1    Domingo     Accidente en intersección  ...          0   \n",
       "...        ...        ...                           ...  ...        ...   \n",
       "396623      27  Miercoles  Accidente en no intersección  ...          0   \n",
       "396624      27  Miercoles  Accidente en no intersección  ...          0   \n",
       "396625      29    Viernes  Accidente en no intersección  ...          0   \n",
       "396626      30     Sabado  Accidente en no intersección  ...          0   \n",
       "396627      31    Domingo  Accidente en no intersección  ...          0   \n",
       "\n",
       "       PEATHERIDO  CICLMUERTO  CICLHERIDO  OTROMUERTO  OTROHERIDO  NEMUERTO  \\\n",
       "0               0           0           0           0           0         0   \n",
       "1               0           0           0           0           0         0   \n",
       "2               0           0           0           0           0         0   \n",
       "3               0           0           0           0           0         0   \n",
       "4               0           0           0           0           0         0   \n",
       "...           ...         ...         ...         ...         ...       ...   \n",
       "396623          0           0           0           0           0         0   \n",
       "396624          0           0           0           0           0         0   \n",
       "396625          0           0           0           0           0         0   \n",
       "396626          0           0           0           0           0         0   \n",
       "396627          0           0           0           0           0         0   \n",
       "\n",
       "        NEHERIDO     CLASACC             ESTATUS  \n",
       "0              0    No fatal  Cifras Definitivas  \n",
       "1              0    No fatal  Cifras Definitivas  \n",
       "2              0  Sólo daños  Cifras Definitivas  \n",
       "3              0       Fatal  Cifras Definitivas  \n",
       "4              0  Sólo daños  Cifras Definitivas  \n",
       "...          ...         ...                 ...  \n",
       "396623         0    No fatal  Cifras Definitivas  \n",
       "396624         0  Sólo daños  Cifras Definitivas  \n",
       "396625         0    No fatal  Cifras Definitivas  \n",
       "396626         0  Sólo daños  Cifras Definitivas  \n",
       "396627         0  Sólo daños  Cifras Definitivas  \n",
       "\n",
       "[396628 rows x 45 columns]>"
      ]
     },
     "execution_count": 8,
     "metadata": {},
     "output_type": "execute_result"
    }
   ],
   "source": [
    "df_traffic_accidents.info"
   ]
  },
  {
   "cell_type": "code",
   "execution_count": 9,
   "id": "7b688d00",
   "metadata": {},
   "outputs": [
    {
     "data": {
      "text/plain": [
       "Index(['COBERTURA', 'ID_ENTIDAD', 'ID_MUNICIPIO', 'ANIO', 'MES', 'ID_HORA',\n",
       "       'ID_MINUTO', 'ID_DIA', 'DIASEMANA', 'URBANA', 'SUBURBANA', 'TIPACCID',\n",
       "       'AUTOMOVIL', 'CAMPASAJ', 'MICROBUS', 'PASCAMION', 'OMNIBUS', 'TRANVIA',\n",
       "       'CAMIONETA', 'CAMION', 'TRACTOR', 'FERROCARRI', 'MOTOCICLET',\n",
       "       'BICICLETA', 'OTROVEHIC', 'CAUSAACCI', 'CAPAROD', 'SEXO', 'ALIENTO',\n",
       "       'CINTURON', 'ID_EDAD', 'CONDMUERTO', 'CONDHERIDO', 'PASAMUERTO',\n",
       "       'PASAHERIDO', 'PEATMUERTO', 'PEATHERIDO', 'CICLMUERTO', 'CICLHERIDO',\n",
       "       'OTROMUERTO', 'OTROHERIDO', 'NEMUERTO', 'NEHERIDO', 'CLASACC',\n",
       "       'ESTATUS'],\n",
       "      dtype='object')"
      ]
     },
     "execution_count": 9,
     "metadata": {},
     "output_type": "execute_result"
    }
   ],
   "source": [
    "df_traffic_accidents.columns"
   ]
  },
  {
   "cell_type": "code",
   "execution_count": 10,
   "id": "03c7945b",
   "metadata": {},
   "outputs": [
    {
     "data": {
      "application/vnd.microsoft.datawrangler.viewer.v0+json": {
       "columns": [
        {
         "name": "index",
         "rawType": "object",
         "type": "string"
        },
        {
         "name": "0",
         "rawType": "object",
         "type": "unknown"
        }
       ],
       "ref": "5efbc6cf-90b0-4a0a-929b-dbf258e36bd8",
       "rows": [
        [
         "COBERTURA",
         "object"
        ],
        [
         "ID_ENTIDAD",
         "int64"
        ],
        [
         "ID_MUNICIPIO",
         "int64"
        ],
        [
         "ANIO",
         "int64"
        ],
        [
         "MES",
         "int64"
        ],
        [
         "ID_HORA",
         "int64"
        ],
        [
         "ID_MINUTO",
         "int64"
        ],
        [
         "ID_DIA",
         "int64"
        ],
        [
         "DIASEMANA",
         "object"
        ],
        [
         "URBANA",
         "object"
        ],
        [
         "SUBURBANA",
         "object"
        ],
        [
         "TIPACCID",
         "object"
        ],
        [
         "AUTOMOVIL",
         "int64"
        ],
        [
         "CAMPASAJ",
         "int64"
        ],
        [
         "MICROBUS",
         "int64"
        ],
        [
         "PASCAMION",
         "int64"
        ],
        [
         "OMNIBUS",
         "int64"
        ],
        [
         "TRANVIA",
         "int64"
        ],
        [
         "CAMIONETA",
         "int64"
        ],
        [
         "CAMION",
         "int64"
        ],
        [
         "TRACTOR",
         "int64"
        ],
        [
         "FERROCARRI",
         "int64"
        ],
        [
         "MOTOCICLET",
         "int64"
        ],
        [
         "BICICLETA",
         "int64"
        ],
        [
         "OTROVEHIC",
         "int64"
        ],
        [
         "CAUSAACCI",
         "object"
        ],
        [
         "CAPAROD",
         "object"
        ],
        [
         "SEXO",
         "object"
        ],
        [
         "ALIENTO",
         "object"
        ],
        [
         "CINTURON",
         "object"
        ],
        [
         "ID_EDAD",
         "int64"
        ],
        [
         "CONDMUERTO",
         "int64"
        ],
        [
         "CONDHERIDO",
         "int64"
        ],
        [
         "PASAMUERTO",
         "int64"
        ],
        [
         "PASAHERIDO",
         "int64"
        ],
        [
         "PEATMUERTO",
         "int64"
        ],
        [
         "PEATHERIDO",
         "int64"
        ],
        [
         "CICLMUERTO",
         "int64"
        ],
        [
         "CICLHERIDO",
         "int64"
        ],
        [
         "OTROMUERTO",
         "int64"
        ],
        [
         "OTROHERIDO",
         "int64"
        ],
        [
         "NEMUERTO",
         "int64"
        ],
        [
         "NEHERIDO",
         "int64"
        ],
        [
         "CLASACC",
         "object"
        ],
        [
         "ESTATUS",
         "object"
        ]
       ],
       "shape": {
        "columns": 1,
        "rows": 45
       }
      },
      "text/plain": [
       "COBERTURA       object\n",
       "ID_ENTIDAD       int64\n",
       "ID_MUNICIPIO     int64\n",
       "ANIO             int64\n",
       "MES              int64\n",
       "ID_HORA          int64\n",
       "ID_MINUTO        int64\n",
       "ID_DIA           int64\n",
       "DIASEMANA       object\n",
       "URBANA          object\n",
       "SUBURBANA       object\n",
       "TIPACCID        object\n",
       "AUTOMOVIL        int64\n",
       "CAMPASAJ         int64\n",
       "MICROBUS         int64\n",
       "PASCAMION        int64\n",
       "OMNIBUS          int64\n",
       "TRANVIA          int64\n",
       "CAMIONETA        int64\n",
       "CAMION           int64\n",
       "TRACTOR          int64\n",
       "FERROCARRI       int64\n",
       "MOTOCICLET       int64\n",
       "BICICLETA        int64\n",
       "OTROVEHIC        int64\n",
       "CAUSAACCI       object\n",
       "CAPAROD         object\n",
       "SEXO            object\n",
       "ALIENTO         object\n",
       "CINTURON        object\n",
       "ID_EDAD          int64\n",
       "CONDMUERTO       int64\n",
       "CONDHERIDO       int64\n",
       "PASAMUERTO       int64\n",
       "PASAHERIDO       int64\n",
       "PEATMUERTO       int64\n",
       "PEATHERIDO       int64\n",
       "CICLMUERTO       int64\n",
       "CICLHERIDO       int64\n",
       "OTROMUERTO       int64\n",
       "OTROHERIDO       int64\n",
       "NEMUERTO         int64\n",
       "NEHERIDO         int64\n",
       "CLASACC         object\n",
       "ESTATUS         object\n",
       "dtype: object"
      ]
     },
     "execution_count": 10,
     "metadata": {},
     "output_type": "execute_result"
    }
   ],
   "source": [
    "df_traffic_accidents.dtypes"
   ]
  },
  {
   "cell_type": "markdown",
   "id": "795b7f29",
   "metadata": {},
   "source": [
    "Create a date column."
   ]
  },
  {
   "cell_type": "code",
   "execution_count": null,
   "id": "7144ffc3",
   "metadata": {},
   "outputs": [],
   "source": []
  }
 ],
 "metadata": {
  "kernelspec": {
   "display_name": "venv",
   "language": "python",
   "name": "python3"
  },
  "language_info": {
   "codemirror_mode": {
    "name": "ipython",
    "version": 3
   },
   "file_extension": ".py",
   "mimetype": "text/x-python",
   "name": "python",
   "nbconvert_exporter": "python",
   "pygments_lexer": "ipython3",
   "version": "3.9.12"
  }
 },
 "nbformat": 4,
 "nbformat_minor": 5
}
