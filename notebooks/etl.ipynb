{
 "cells": [
  {
   "cell_type": "markdown",
   "id": "57250e9d",
   "metadata": {},
   "source": [
    "# Extract, Transform & Load"
   ]
  },
  {
   "cell_type": "markdown",
   "id": "c2864722",
   "metadata": {},
   "source": [
    "Import libraries."
   ]
  },
  {
   "cell_type": "code",
   "execution_count": 30,
   "id": "a1650896",
   "metadata": {},
   "outputs": [],
   "source": [
    "import pandas as pd\n",
    "import sqlite3"
   ]
  },
  {
   "cell_type": "markdown",
   "id": "814f0556",
   "metadata": {},
   "source": [
    "Load CSV."
   ]
  },
  {
   "cell_type": "code",
   "execution_count": 31,
   "id": "9ec78e73",
   "metadata": {},
   "outputs": [],
   "source": [
    "df_traffic_accidents = pd.read_csv(\"../data/raw/atus_anual_csv/conjunto_de_datos/atus_anual_2023.csv\")"
   ]
  },
  {
   "cell_type": "code",
   "execution_count": 32,
   "id": "fa50fd8d",
   "metadata": {},
   "outputs": [
    {
     "data": {
      "text/plain": [
       "<bound method DataFrame.info of         COBERTURA  ID_ENTIDAD  ID_MUNICIPIO  ANIO  MES  ID_HORA  ID_MINUTO  \\\n",
       "0       Municipal           1             1  2023    1        0          0   \n",
       "1       Municipal           1             1  2023    1        0          0   \n",
       "2       Municipal           1             1  2023    1        2         20   \n",
       "3       Municipal           1             1  2023    1        3         20   \n",
       "4       Municipal           1             1  2023    1        6          0   \n",
       "...           ...         ...           ...   ...  ...      ...        ...   \n",
       "396623  Municipal          32            56  2023   12       14         45   \n",
       "396624  Municipal          32            56  2023   12       21         40   \n",
       "396625  Municipal          32            56  2023   12       14         30   \n",
       "396626  Municipal          32            56  2023   12        0          0   \n",
       "396627  Municipal          32            56  2023   12       18          0   \n",
       "\n",
       "        ID_DIA  DIASEMANA                        URBANA  ... PEATMUERTO  \\\n",
       "0            1    Domingo    Sin accidente en esta zona  ...          0   \n",
       "1            1    Domingo     Accidente en intersección  ...          0   \n",
       "2            1    Domingo     Accidente en intersección  ...          0   \n",
       "3            1    Domingo     Accidente en intersección  ...          0   \n",
       "4            1    Domingo     Accidente en intersección  ...          0   \n",
       "...        ...        ...                           ...  ...        ...   \n",
       "396623      27  Miercoles  Accidente en no intersección  ...          0   \n",
       "396624      27  Miercoles  Accidente en no intersección  ...          0   \n",
       "396625      29    Viernes  Accidente en no intersección  ...          0   \n",
       "396626      30     Sabado  Accidente en no intersección  ...          0   \n",
       "396627      31    Domingo  Accidente en no intersección  ...          0   \n",
       "\n",
       "       PEATHERIDO  CICLMUERTO  CICLHERIDO  OTROMUERTO  OTROHERIDO  NEMUERTO  \\\n",
       "0               0           0           0           0           0         0   \n",
       "1               0           0           0           0           0         0   \n",
       "2               0           0           0           0           0         0   \n",
       "3               0           0           0           0           0         0   \n",
       "4               0           0           0           0           0         0   \n",
       "...           ...         ...         ...         ...         ...       ...   \n",
       "396623          0           0           0           0           0         0   \n",
       "396624          0           0           0           0           0         0   \n",
       "396625          0           0           0           0           0         0   \n",
       "396626          0           0           0           0           0         0   \n",
       "396627          0           0           0           0           0         0   \n",
       "\n",
       "        NEHERIDO     CLASACC             ESTATUS  \n",
       "0              0    No fatal  Cifras Definitivas  \n",
       "1              0    No fatal  Cifras Definitivas  \n",
       "2              0  Sólo daños  Cifras Definitivas  \n",
       "3              0       Fatal  Cifras Definitivas  \n",
       "4              0  Sólo daños  Cifras Definitivas  \n",
       "...          ...         ...                 ...  \n",
       "396623         0    No fatal  Cifras Definitivas  \n",
       "396624         0  Sólo daños  Cifras Definitivas  \n",
       "396625         0    No fatal  Cifras Definitivas  \n",
       "396626         0  Sólo daños  Cifras Definitivas  \n",
       "396627         0  Sólo daños  Cifras Definitivas  \n",
       "\n",
       "[396628 rows x 45 columns]>"
      ]
     },
     "execution_count": 32,
     "metadata": {},
     "output_type": "execute_result"
    }
   ],
   "source": [
    "df_traffic_accidents.info"
   ]
  },
  {
   "cell_type": "code",
   "execution_count": 33,
   "id": "7b688d00",
   "metadata": {},
   "outputs": [
    {
     "data": {
      "text/plain": [
       "Index(['COBERTURA', 'ID_ENTIDAD', 'ID_MUNICIPIO', 'ANIO', 'MES', 'ID_HORA',\n",
       "       'ID_MINUTO', 'ID_DIA', 'DIASEMANA', 'URBANA', 'SUBURBANA', 'TIPACCID',\n",
       "       'AUTOMOVIL', 'CAMPASAJ', 'MICROBUS', 'PASCAMION', 'OMNIBUS', 'TRANVIA',\n",
       "       'CAMIONETA', 'CAMION', 'TRACTOR', 'FERROCARRI', 'MOTOCICLET',\n",
       "       'BICICLETA', 'OTROVEHIC', 'CAUSAACCI', 'CAPAROD', 'SEXO', 'ALIENTO',\n",
       "       'CINTURON', 'ID_EDAD', 'CONDMUERTO', 'CONDHERIDO', 'PASAMUERTO',\n",
       "       'PASAHERIDO', 'PEATMUERTO', 'PEATHERIDO', 'CICLMUERTO', 'CICLHERIDO',\n",
       "       'OTROMUERTO', 'OTROHERIDO', 'NEMUERTO', 'NEHERIDO', 'CLASACC',\n",
       "       'ESTATUS'],\n",
       "      dtype='object')"
      ]
     },
     "execution_count": 33,
     "metadata": {},
     "output_type": "execute_result"
    }
   ],
   "source": [
    "df_traffic_accidents.columns"
   ]
  },
  {
   "cell_type": "code",
   "execution_count": 34,
   "id": "03c7945b",
   "metadata": {},
   "outputs": [
    {
     "data": {
      "application/vnd.microsoft.datawrangler.viewer.v0+json": {
       "columns": [
        {
         "name": "index",
         "rawType": "object",
         "type": "string"
        },
        {
         "name": "0",
         "rawType": "object",
         "type": "unknown"
        }
       ],
       "ref": "d6af978a-b01e-4130-9259-eb79e709b645",
       "rows": [
        [
         "COBERTURA",
         "object"
        ],
        [
         "ID_ENTIDAD",
         "int64"
        ],
        [
         "ID_MUNICIPIO",
         "int64"
        ],
        [
         "ANIO",
         "int64"
        ],
        [
         "MES",
         "int64"
        ],
        [
         "ID_HORA",
         "int64"
        ],
        [
         "ID_MINUTO",
         "int64"
        ],
        [
         "ID_DIA",
         "int64"
        ],
        [
         "DIASEMANA",
         "object"
        ],
        [
         "URBANA",
         "object"
        ],
        [
         "SUBURBANA",
         "object"
        ],
        [
         "TIPACCID",
         "object"
        ],
        [
         "AUTOMOVIL",
         "int64"
        ],
        [
         "CAMPASAJ",
         "int64"
        ],
        [
         "MICROBUS",
         "int64"
        ],
        [
         "PASCAMION",
         "int64"
        ],
        [
         "OMNIBUS",
         "int64"
        ],
        [
         "TRANVIA",
         "int64"
        ],
        [
         "CAMIONETA",
         "int64"
        ],
        [
         "CAMION",
         "int64"
        ],
        [
         "TRACTOR",
         "int64"
        ],
        [
         "FERROCARRI",
         "int64"
        ],
        [
         "MOTOCICLET",
         "int64"
        ],
        [
         "BICICLETA",
         "int64"
        ],
        [
         "OTROVEHIC",
         "int64"
        ],
        [
         "CAUSAACCI",
         "object"
        ],
        [
         "CAPAROD",
         "object"
        ],
        [
         "SEXO",
         "object"
        ],
        [
         "ALIENTO",
         "object"
        ],
        [
         "CINTURON",
         "object"
        ],
        [
         "ID_EDAD",
         "int64"
        ],
        [
         "CONDMUERTO",
         "int64"
        ],
        [
         "CONDHERIDO",
         "int64"
        ],
        [
         "PASAMUERTO",
         "int64"
        ],
        [
         "PASAHERIDO",
         "int64"
        ],
        [
         "PEATMUERTO",
         "int64"
        ],
        [
         "PEATHERIDO",
         "int64"
        ],
        [
         "CICLMUERTO",
         "int64"
        ],
        [
         "CICLHERIDO",
         "int64"
        ],
        [
         "OTROMUERTO",
         "int64"
        ],
        [
         "OTROHERIDO",
         "int64"
        ],
        [
         "NEMUERTO",
         "int64"
        ],
        [
         "NEHERIDO",
         "int64"
        ],
        [
         "CLASACC",
         "object"
        ],
        [
         "ESTATUS",
         "object"
        ]
       ],
       "shape": {
        "columns": 1,
        "rows": 45
       }
      },
      "text/plain": [
       "COBERTURA       object\n",
       "ID_ENTIDAD       int64\n",
       "ID_MUNICIPIO     int64\n",
       "ANIO             int64\n",
       "MES              int64\n",
       "ID_HORA          int64\n",
       "ID_MINUTO        int64\n",
       "ID_DIA           int64\n",
       "DIASEMANA       object\n",
       "URBANA          object\n",
       "SUBURBANA       object\n",
       "TIPACCID        object\n",
       "AUTOMOVIL        int64\n",
       "CAMPASAJ         int64\n",
       "MICROBUS         int64\n",
       "PASCAMION        int64\n",
       "OMNIBUS          int64\n",
       "TRANVIA          int64\n",
       "CAMIONETA        int64\n",
       "CAMION           int64\n",
       "TRACTOR          int64\n",
       "FERROCARRI       int64\n",
       "MOTOCICLET       int64\n",
       "BICICLETA        int64\n",
       "OTROVEHIC        int64\n",
       "CAUSAACCI       object\n",
       "CAPAROD         object\n",
       "SEXO            object\n",
       "ALIENTO         object\n",
       "CINTURON        object\n",
       "ID_EDAD          int64\n",
       "CONDMUERTO       int64\n",
       "CONDHERIDO       int64\n",
       "PASAMUERTO       int64\n",
       "PASAHERIDO       int64\n",
       "PEATMUERTO       int64\n",
       "PEATHERIDO       int64\n",
       "CICLMUERTO       int64\n",
       "CICLHERIDO       int64\n",
       "OTROMUERTO       int64\n",
       "OTROHERIDO       int64\n",
       "NEMUERTO         int64\n",
       "NEHERIDO         int64\n",
       "CLASACC         object\n",
       "ESTATUS         object\n",
       "dtype: object"
      ]
     },
     "execution_count": 34,
     "metadata": {},
     "output_type": "execute_result"
    }
   ],
   "source": [
    "df_traffic_accidents.dtypes"
   ]
  },
  {
   "cell_type": "markdown",
   "id": "795b7f29",
   "metadata": {},
   "source": [
    "Create a date column."
   ]
  },
  {
   "cell_type": "code",
   "execution_count": 35,
   "id": "7144ffc3",
   "metadata": {},
   "outputs": [],
   "source": [
    "df_traffic_accidents[\"fecha_hora\"] = pd.to_datetime(dict(\n",
    "        year=df_traffic_accidents[\"ANIO\"],\n",
    "        month=df_traffic_accidents[\"MES\"],\n",
    "        day=df_traffic_accidents[\"ID_DIA\"],\n",
    "        hour=df_traffic_accidents[\"ID_HORA\"],\n",
    "        minute=df_traffic_accidents[\"ID_MINUTO\"]\n",
    "    ), errors='coerce')"
   ]
  },
  {
   "cell_type": "markdown",
   "id": "16f9eb93",
   "metadata": {},
   "source": [
    "Drop NaT values."
   ]
  },
  {
   "cell_type": "code",
   "execution_count": 36,
   "id": "1992862d",
   "metadata": {},
   "outputs": [
    {
     "data": {
      "text/plain": [
       "np.int64(0)"
      ]
     },
     "execution_count": 36,
     "metadata": {},
     "output_type": "execute_result"
    }
   ],
   "source": [
    "df_traffic_accidents = df_traffic_accidents.dropna()\n",
    "df_traffic_accidents[\"fecha_hora\"].isna().sum()"
   ]
  },
  {
   "cell_type": "markdown",
   "id": "8d7826b6",
   "metadata": {},
   "source": [
    "Drop year, month, day, hour and minute columns."
   ]
  },
  {
   "cell_type": "code",
   "execution_count": 37,
   "id": "f0c8b1a9",
   "metadata": {},
   "outputs": [],
   "source": [
    "df_traffic_accidents = df_traffic_accidents.drop([\"ANIO\",\"MES\",\"ID_DIA\",\"ID_HORA\",\"ID_MINUTO\"],axis=1)"
   ]
  },
  {
   "cell_type": "code",
   "execution_count": 38,
   "id": "9728278e",
   "metadata": {},
   "outputs": [
    {
     "data": {
      "text/plain": [
       "Index(['COBERTURA', 'ID_ENTIDAD', 'ID_MUNICIPIO', 'DIASEMANA', 'URBANA',\n",
       "       'SUBURBANA', 'TIPACCID', 'AUTOMOVIL', 'CAMPASAJ', 'MICROBUS',\n",
       "       'PASCAMION', 'OMNIBUS', 'TRANVIA', 'CAMIONETA', 'CAMION', 'TRACTOR',\n",
       "       'FERROCARRI', 'MOTOCICLET', 'BICICLETA', 'OTROVEHIC', 'CAUSAACCI',\n",
       "       'CAPAROD', 'SEXO', 'ALIENTO', 'CINTURON', 'ID_EDAD', 'CONDMUERTO',\n",
       "       'CONDHERIDO', 'PASAMUERTO', 'PASAHERIDO', 'PEATMUERTO', 'PEATHERIDO',\n",
       "       'CICLMUERTO', 'CICLHERIDO', 'OTROMUERTO', 'OTROHERIDO', 'NEMUERTO',\n",
       "       'NEHERIDO', 'CLASACC', 'ESTATUS', 'fecha_hora'],\n",
       "      dtype='object')"
      ]
     },
     "execution_count": 38,
     "metadata": {},
     "output_type": "execute_result"
    }
   ],
   "source": [
    "df_traffic_accidents.columns"
   ]
  },
  {
   "cell_type": "markdown",
   "id": "9e65b4cf",
   "metadata": {},
   "source": [
    "Create a zone column."
   ]
  },
  {
   "cell_type": "code",
   "execution_count": 39,
   "id": "43548705",
   "metadata": {},
   "outputs": [],
   "source": [
    "zones = pd.DataFrame()\n",
    "zones[\"URBANA\"] = df_traffic_accidents[\"URBANA\"].replace(\"Sin accidente en esta zona\", pd.NA)\n",
    "zones[\"SUBURBANA\"] = df_traffic_accidents[\"SUBURBANA\"].replace(\"Sin accidente en esta zona\", pd.NA)\n",
    "\n",
    "df_traffic_accidents[\"zona\"] = zones[\"URBANA\"].combine_first(zones[\"SUBURBANA\"])"
   ]
  },
  {
   "cell_type": "markdown",
   "id": "39dec4c8",
   "metadata": {},
   "source": [
    "Fill rows with undefined zone."
   ]
  },
  {
   "cell_type": "code",
   "execution_count": 40,
   "id": "893f1249",
   "metadata": {},
   "outputs": [],
   "source": [
    "df_traffic_accidents[\"zona\"] = df_traffic_accidents[\"zona\"].fillna('No especificado')"
   ]
  },
  {
   "cell_type": "markdown",
   "id": "5ada5c51",
   "metadata": {},
   "source": [
    "Drop URBANA and SUBURBANA columns."
   ]
  },
  {
   "cell_type": "code",
   "execution_count": 41,
   "id": "071e4b7e",
   "metadata": {},
   "outputs": [],
   "source": [
    "df_traffic_accidents = df_traffic_accidents.drop([\"URBANA\",\"SUBURBANA\"],axis=1)"
   ]
  },
  {
   "cell_type": "code",
   "execution_count": 42,
   "id": "8ddd6045",
   "metadata": {},
   "outputs": [
    {
     "data": {
      "text/plain": [
       "Index(['COBERTURA', 'ID_ENTIDAD', 'ID_MUNICIPIO', 'DIASEMANA', 'TIPACCID',\n",
       "       'AUTOMOVIL', 'CAMPASAJ', 'MICROBUS', 'PASCAMION', 'OMNIBUS', 'TRANVIA',\n",
       "       'CAMIONETA', 'CAMION', 'TRACTOR', 'FERROCARRI', 'MOTOCICLET',\n",
       "       'BICICLETA', 'OTROVEHIC', 'CAUSAACCI', 'CAPAROD', 'SEXO', 'ALIENTO',\n",
       "       'CINTURON', 'ID_EDAD', 'CONDMUERTO', 'CONDHERIDO', 'PASAMUERTO',\n",
       "       'PASAHERIDO', 'PEATMUERTO', 'PEATHERIDO', 'CICLMUERTO', 'CICLHERIDO',\n",
       "       'OTROMUERTO', 'OTROHERIDO', 'NEMUERTO', 'NEHERIDO', 'CLASACC',\n",
       "       'ESTATUS', 'fecha_hora', 'zona'],\n",
       "      dtype='object')"
      ]
     },
     "execution_count": 42,
     "metadata": {},
     "output_type": "execute_result"
    }
   ],
   "source": [
    "df_traffic_accidents.columns"
   ]
  },
  {
   "cell_type": "markdown",
   "id": "3bc62c0b",
   "metadata": {},
   "source": [
    "Change columns name."
   ]
  },
  {
   "cell_type": "code",
   "execution_count": 43,
   "id": "9ab47691",
   "metadata": {},
   "outputs": [],
   "source": [
    "rename_columns = {\n",
    "    \"ID_ENTIDAD\": \"entidad_id\",\n",
    "    \"ID_MUNICIPIO\": \"municipio_id\",\n",
    "    \"TIPACCID\": \"tipo_accidente\",\n",
    "    \"AUTOMOVIL\": \"automovil\",\n",
    "    \"CAMPASAJ\": \"camioneta_pasajeros\",\n",
    "    \"MICROBUS\": \"microbus\",\n",
    "    \"PASCAMION\": \"camion_urbano\",\n",
    "    \"OMNIBUS\": \"autobus\",\n",
    "    \"TRANVIA\": \"tranvia\",\n",
    "    \"CAMIONETA\": \"camioneta_carga\",\n",
    "    \"CAMION\": \"camion_carga\",\n",
    "    \"TRACTOR\": \"tractor\",\n",
    "    \"FERROCARRI\": \"ferrocarril\",\n",
    "    \"MOTOCICLET\": \"motocicleta\",\n",
    "    \"BICICLETA\": \"bicicleta\",\n",
    "    \"OTROVEHIC\": \"otro_vehiculo\",\n",
    "    \"CAUSAACCI\": \"causa_accidente\",\n",
    "    \"CAPAROD\": \"superficie_rodamiento\",\n",
    "    \"SEXO\": \"sexo\",\n",
    "    \"ALIENTO\": \"aliento_alcoholico\",\n",
    "    \"CINTURON\": \"cinturon\",\n",
    "    \"ID_EDAD\": \"edad\",\n",
    "    \"CONDMUERTO\":\"conductor_muerto\",\n",
    "    \"CONDHERIDO\": \"conductor_herido\",\n",
    "    \"PASAMUERTO\": \"pasajero_muerto\",\n",
    "    \"PASAHERIDO\": \"pasajero_herido\",\n",
    "    \"PEATMUERTO\": \"peaton_muerto\",\n",
    "    \"PEATHERIDO\": \"peaton_herido\",\n",
    "    \"CICLMUERTO\": \"ciclista_muerto\",\n",
    "    \"CICLHERIDO\": \"ciclista_herido\",\n",
    "    \"OTROMUERTO\": \"otro_muerto\",\n",
    "    \"OTROHERIDO\": \"otro_herido\",\n",
    "    \"NEMUERTO\": \"no_espec_muerto\",\n",
    "    \"NEHERIDO\": \"no_espec_herido\"\n",
    "}\n",
    "\n",
    "for original, new in rename_columns.items():\n",
    "    if original in df_traffic_accidents.columns:\n",
    "        df_traffic_accidents.rename(columns={original: new}, inplace=True)"
   ]
  },
  {
   "cell_type": "code",
   "execution_count": 44,
   "id": "ebf21136",
   "metadata": {},
   "outputs": [
    {
     "data": {
      "text/plain": [
       "Index(['COBERTURA', 'entidad_id', 'municipio_id', 'DIASEMANA',\n",
       "       'tipo_accidente', 'automovil', 'camioneta_pasajeros', 'microbus',\n",
       "       'camion_urbano', 'autobus', 'tranvia', 'camioneta_carga',\n",
       "       'camion_carga', 'tractor', 'ferrocarril', 'motocicleta', 'bicicleta',\n",
       "       'otro_vehiculo', 'causa_accidente', 'superficie_rodamiento', 'sexo',\n",
       "       'aliento_alcoholico', 'cinturon', 'edad', 'conductor_muerto',\n",
       "       'conductor_herido', 'pasajero_muerto', 'pasajero_herido',\n",
       "       'peaton_muerto', 'peaton_herido', 'ciclista_muerto', 'ciclista_herido',\n",
       "       'otro_muerto', 'otro_herido', 'no_espec_muerto', 'no_espec_herido',\n",
       "       'CLASACC', 'ESTATUS', 'fecha_hora', 'zona'],\n",
       "      dtype='object')"
      ]
     },
     "execution_count": 44,
     "metadata": {},
     "output_type": "execute_result"
    }
   ],
   "source": [
    "df_traffic_accidents.columns"
   ]
  },
  {
   "cell_type": "markdown",
   "id": "e034619c",
   "metadata": {},
   "source": [
    "Drop unnecessary columns."
   ]
  },
  {
   "cell_type": "code",
   "execution_count": 45,
   "id": "2fc15cff",
   "metadata": {},
   "outputs": [
    {
     "data": {
      "text/plain": [
       "Index(['entidad_id', 'municipio_id', 'tipo_accidente', 'automovil',\n",
       "       'camioneta_pasajeros', 'microbus', 'camion_urbano', 'autobus',\n",
       "       'tranvia', 'camioneta_carga', 'camion_carga', 'tractor', 'ferrocarril',\n",
       "       'motocicleta', 'bicicleta', 'otro_vehiculo', 'causa_accidente',\n",
       "       'superficie_rodamiento', 'sexo', 'aliento_alcoholico', 'cinturon',\n",
       "       'edad', 'conductor_muerto', 'conductor_herido', 'pasajero_muerto',\n",
       "       'pasajero_herido', 'peaton_muerto', 'peaton_herido', 'ciclista_muerto',\n",
       "       'ciclista_herido', 'otro_muerto', 'otro_herido', 'no_espec_muerto',\n",
       "       'no_espec_herido', 'fecha_hora', 'zona'],\n",
       "      dtype='object')"
      ]
     },
     "execution_count": 45,
     "metadata": {},
     "output_type": "execute_result"
    }
   ],
   "source": [
    "df_traffic_accidents = df_traffic_accidents.drop(['COBERTURA', 'DIASEMANA', 'CLASACC', 'ESTATUS'], axis=1)\n",
    "df_traffic_accidents.columns"
   ]
  },
  {
   "cell_type": "markdown",
   "id": "fb1815f7",
   "metadata": {},
   "source": [
    "Create DB."
   ]
  },
  {
   "cell_type": "code",
   "execution_count": 46,
   "id": "23fc2bc0",
   "metadata": {},
   "outputs": [
    {
     "data": {
      "text/plain": [
       "<sqlite3.Cursor at 0x7f3c903ea420>"
      ]
     },
     "execution_count": 46,
     "metadata": {},
     "output_type": "execute_result"
    }
   ],
   "source": [
    "conn = sqlite3.connect(\"../data/DB/accidentes_trafico_mexico\")\n",
    "cursor = conn.cursor()\n",
    "cursor.execute(\"PRAGMA foreign_keys = ON;\")"
   ]
  },
  {
   "cell_type": "markdown",
   "id": "7239e195",
   "metadata": {},
   "source": [
    "Create tables."
   ]
  },
  {
   "cell_type": "code",
   "execution_count": 47,
   "id": "54211b87",
   "metadata": {},
   "outputs": [
    {
     "data": {
      "text/plain": [
       "<sqlite3.Cursor at 0x7f3c903ea420>"
      ]
     },
     "execution_count": 47,
     "metadata": {},
     "output_type": "execute_result"
    }
   ],
   "source": [
    "cursor.execute(\"\"\"\n",
    "CREATE TABLE IF NOT EXISTS vehiculos (\n",
    "    id INTEGER PRIMARY KEY AUTOINCREMENT,\n",
    "    automovil INTEGER,\n",
    "    camioneta_pasajeros INTEGER,\n",
    "    microbus INTEGER,\n",
    "    camion_urbano INTEGER,\n",
    "    autobus INTEGER,\n",
    "    tranvia INTEGER,\n",
    "    camioneta_carga INTEGER,\n",
    "    camion_carga INTEGER,\n",
    "    tractor INTEGER,\n",
    "    ferrocarril INTEGER,\n",
    "    motocicleta INTEGER,\n",
    "    bicicleta INTEGER,\n",
    "    otro_vehiculo INTEGER\n",
    ");\n",
    "\"\"\")\n",
    "\n",
    "cursor.execute(\"\"\"\n",
    "CREATE TABLE IF NOT EXISTS heridos (\n",
    "    id INTEGER PRIMARY KEY AUTOINCREMENT,\n",
    "    conductor_herido INTEGER\n",
    "    pasajero_herido INTEGER,\n",
    "    peaton_herido INTEGER,\n",
    "    ciclista_herido INTEGER,\n",
    "    otro_herido INTEGER,\n",
    "    no_espec_herido INTEGER\n",
    ");\n",
    "\"\"\")\n",
    "\n",
    "cursor.execute(\"\"\"\n",
    "CREATE TABLE IF NOT EXISTS muertos (\n",
    "    id INTEGER PRIMARY KEY AUTOINCREMENT,\n",
    "    conductor_muerto INTEGER,\n",
    "    pasajero_muerto INTEGER,\n",
    "    peaton_muerto INTEGER,\n",
    "    ciclista_muerto INTEGER,\n",
    "    otro_muerto INTEGER,\n",
    "    no_espec_muerto INTEGER\n",
    ");\n",
    "\"\"\")\n",
    "\n",
    "cursor.execute(\"\"\"\n",
    "CREATE TABLE IF NOT EXISTS entidades (\n",
    "    id INTEGER PRIMARY KEY AUTOINCREMENT,\n",
    "    nombre INTEGER\n",
    ");\n",
    "\"\"\")\n",
    "\n",
    "cursor.execute(\"\"\"\n",
    "CREATE TABLE IF NOT EXISTS municipios (\n",
    "    id INTEGER PRIMARY KEY AUTOINCREMENT,\n",
    "    nombre INTEGER,\n",
    "    entidad_id INTEGER,\n",
    "    FOREIGN KEY (entidad_id) REFERENCES entidades(id)\n",
    ");\n",
    "\"\"\")\n",
    "\n",
    "cursor.execute(\"\"\"\n",
    "CREATE TABLE IF NOT EXISTS accidentes (\n",
    "    id INTEGER PRIMARY KEY AUTOINCREMENT,\n",
    "    municipio_id INTEGER,\n",
    "    tipo_accidente TEXT,\n",
    "    causa_accidente TEXT,\n",
    "    superficie_rodamiento TEXT,\n",
    "    sexo TEXT,\n",
    "    aliento_alcoholico TEXT,\n",
    "    cinturon TEXT,\n",
    "    edad INTEGER,\n",
    "    fecha_hora TEXT,\n",
    "    zona TEXT,\n",
    "    vehiculos_id INTEGER,\n",
    "    heridos_id INTEGER,\n",
    "    muertos_id INTEGER,\n",
    "    FOREIGN KEY (vehiculos_id) REFERENCES vehiculos(id),\n",
    "    FOREIGN KEY (heridos_id) REFERENCES heridos(id),\n",
    "    FOREIGN KEY (muertos_id) REFERENCES muertos(id),\n",
    "    FOREIGN KEY (municipio_id) REFERENCES municipios(id)\n",
    ");\n",
    "\"\"\")"
   ]
  },
  {
   "cell_type": "markdown",
   "id": "b894f452",
   "metadata": {},
   "source": [
    "Split df_traffic_accidents."
   ]
  },
  {
   "cell_type": "code",
   "execution_count": 48,
   "id": "a9db9780",
   "metadata": {},
   "outputs": [],
   "source": [
    "df_vehiculos = df_traffic_accidents[['automovil','camioneta_pasajeros', 'microbus', 'camion_urbano', 'autobus','tranvia', 'camioneta_carga', \n",
    "                                     'camion_carga', 'tractor', 'ferrocarril', 'motocicleta', 'bicicleta', 'otro_vehiculo']]\n",
    "df_heridos = df_traffic_accidents[['conductor_herido', 'pasajero_herido', 'peaton_herido', 'ciclista_herido', 'otro_herido', 'no_espec_herido']]\n",
    "df_muertos = df_traffic_accidents[['conductor_muerto', 'pasajero_muerto', 'peaton_muerto', 'ciclista_muerto', 'otro_muerto', 'no_espec_muerto']]\n",
    "df_accidentes = df_traffic_accidents[['entidad_id', 'municipio_id', 'tipo_accidente', 'causa_accidente', 'superficie_rodamiento', 'sexo', \n",
    "                                      'aliento_alcoholico', 'cinturon', 'edad', 'fecha_hora', 'zona']]"
   ]
  },
  {
   "cell_type": "markdown",
   "id": "93bcde44",
   "metadata": {},
   "source": [
    "Add id columns to the dataframes."
   ]
  },
  {
   "cell_type": "code",
   "execution_count": 49,
   "id": "1f5a00fd",
   "metadata": {},
   "outputs": [],
   "source": [
    "df_vehiculos.insert(0, \"id\", range(1, len(df_vehiculos) + 1))\n",
    "df_heridos.insert(0, \"id\", range(1, len(df_heridos) + 1))\n",
    "df_muertos.insert(0, \"id\", range(1, len(df_muertos) + 1))\n",
    "df_accidentes.insert(0, \"id\", range(1, len(df_accidentes) + 1))"
   ]
  },
  {
   "cell_type": "markdown",
   "id": "f179c17f",
   "metadata": {},
   "source": [
    "Load entidades and minicipios datasets."
   ]
  },
  {
   "cell_type": "code",
   "execution_count": 50,
   "id": "c88845f8",
   "metadata": {},
   "outputs": [],
   "source": [
    "df_entidades = pd.read_csv(\"../data/raw/atus_anual_csv/catalogos/tc_entidad.csv\")\n",
    "df_municipios = pd.read_csv(\"../data/raw/atus_anual_csv/catalogos/tc_municipio.csv\")\n",
    "\n",
    "rename_entidades = {\n",
    "    \"ID_ENTIDAD\": \"id\",\n",
    "    \"NOM_ENTIDAD\": \"nombre\"\n",
    "}\n",
    "\n",
    "for original, new in rename_entidades.items():\n",
    "    if original in df_entidades.columns:\n",
    "        df_entidades.rename(columns={original: new}, inplace=True)\n",
    "\n",
    "rename_municipios = {\n",
    "    \"ID_ENTIDAD\": \"entidad_id\",\n",
    "    \"ID_MUNICIPIO\": \"municipio_id\",\n",
    "    \"NOM_MUNICIPIO\": \"nombre\"\n",
    "}\n",
    "\n",
    "for original, new in rename_municipios.items():\n",
    "    if original in df_municipios.columns:\n",
    "        df_municipios.rename(columns={original: new}, inplace=True)"
   ]
  },
  {
   "cell_type": "markdown",
   "id": "2655bd8d",
   "metadata": {},
   "source": [
    "Add id column to municipios."
   ]
  },
  {
   "cell_type": "code",
   "execution_count": 51,
   "id": "3ba7c23e",
   "metadata": {},
   "outputs": [],
   "source": [
    "df_municipios.insert(0, \"id\", range(1, len(df_municipios) + 1))"
   ]
  },
  {
   "cell_type": "markdown",
   "id": "41eb3472",
   "metadata": {},
   "source": [
    "Replace the entidad_id and municipio_id with the new id from df_municipios in df_accidentes."
   ]
  },
  {
   "cell_type": "code",
   "execution_count": 52,
   "id": "9c7d9480",
   "metadata": {},
   "outputs": [],
   "source": [
    "df_accidentes = df_accidentes.merge(df_municipios[['id', 'entidad_id', 'municipio_id']],on=['entidad_id', 'municipio_id'],how='left')"
   ]
  },
  {
   "cell_type": "markdown",
   "id": "be979bf6",
   "metadata": {},
   "source": [
    "Drop entidad_id and municipio_id in df_accidentes."
   ]
  },
  {
   "cell_type": "code",
   "execution_count": 53,
   "id": "abac0219",
   "metadata": {},
   "outputs": [
    {
     "data": {
      "text/plain": [
       "Index(['id_x', 'tipo_accidente', 'causa_accidente', 'superficie_rodamiento',\n",
       "       'sexo', 'aliento_alcoholico', 'cinturon', 'edad', 'fecha_hora', 'zona',\n",
       "       'id_y'],\n",
       "      dtype='object')"
      ]
     },
     "execution_count": 53,
     "metadata": {},
     "output_type": "execute_result"
    }
   ],
   "source": [
    "df_accidentes = df_accidentes.drop(['entidad_id', 'municipio_id'], axis=1)\n",
    "df_accidentes.columns"
   ]
  },
  {
   "cell_type": "markdown",
   "id": "fc4f31da",
   "metadata": {},
   "source": [
    "Drop municipio_id in df_municipios."
   ]
  },
  {
   "cell_type": "code",
   "execution_count": 54,
   "id": "fcc839d5",
   "metadata": {},
   "outputs": [
    {
     "data": {
      "text/plain": [
       "Index(['id', 'entidad_id', 'nombre'], dtype='object')"
      ]
     },
     "execution_count": 54,
     "metadata": {},
     "output_type": "execute_result"
    }
   ],
   "source": [
    "df_municipios = df_municipios.drop(['municipio_id'], axis=1)\n",
    "df_municipios.columns"
   ]
  },
  {
   "cell_type": "markdown",
   "id": "37921087",
   "metadata": {},
   "source": [
    "Rename id´s columns in df_accidentes."
   ]
  },
  {
   "cell_type": "code",
   "execution_count": 55,
   "id": "91e61fd5",
   "metadata": {},
   "outputs": [],
   "source": [
    "rename_id ={\n",
    "    \"id_x\": \"id\",\n",
    "    \"id_y\": \"municipio_id\"\n",
    "}\n",
    "\n",
    "for original, new in rename_id.items():\n",
    "    if original in df_accidentes.columns:\n",
    "        df_accidentes.rename(columns={original: new}, inplace=True)"
   ]
  },
  {
   "cell_type": "markdown",
   "id": "abb75cbe",
   "metadata": {},
   "source": [
    "Load DataFrame to te DB."
   ]
  },
  {
   "cell_type": "code",
   "execution_count": 56,
   "id": "e5c04c0e",
   "metadata": {},
   "outputs": [
    {
     "data": {
      "text/plain": [
       "396623"
      ]
     },
     "execution_count": 56,
     "metadata": {},
     "output_type": "execute_result"
    }
   ],
   "source": [
    "df_entidades.to_sql(\"entidades\",conn,if_exists=\"replace\",index=False)\n",
    "df_municipios.to_sql(\"municipios\",conn,if_exists=\"replace\",index=False)\n",
    "df_vehiculos.to_sql(\"vehiculos\",conn,if_exists=\"replace\",index=False)\n",
    "df_muertos.to_sql(\"muertos\",conn,if_exists=\"replace\",index=False)\n",
    "df_heridos.to_sql(\"heridos\",conn,if_exists=\"replace\",index=False)\n",
    "df_accidentes.to_sql(\"accidentes\",conn,if_exists=\"replace\",index=False)"
   ]
  }
 ],
 "metadata": {
  "kernelspec": {
   "display_name": "venv",
   "language": "python",
   "name": "python3"
  },
  "language_info": {
   "codemirror_mode": {
    "name": "ipython",
    "version": 3
   },
   "file_extension": ".py",
   "mimetype": "text/x-python",
   "name": "python",
   "nbconvert_exporter": "python",
   "pygments_lexer": "ipython3",
   "version": "3.9.12"
  }
 },
 "nbformat": 4,
 "nbformat_minor": 5
}
